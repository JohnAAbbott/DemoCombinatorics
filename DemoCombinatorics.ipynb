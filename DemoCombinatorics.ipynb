{
 "cells": [
  {
   "cell_type": "markdown",
   "id": "c4841232-9d3c-4f95-9fd3-ea83e626e7a0",
   "metadata": {},
   "source": [
    "# Compositions And Partitions"
   ]
  },
  {
   "cell_type": "markdown",
   "id": "871825bb-c3d8-4cc5-a31c-4979629bbd14",
   "metadata": {},
   "source": [
    "* Authors: John Abbott\n",
    "* Version: OSCAR version 1.1.0\n",
    "* Last modified: 2024-06-11\n",
    "\n",
    "This tutorial is an introduction to some basic operations in the realm of _combinatorics_.  The implementation in OSCAR makes good use of Julia's integration of *iterators*: so there is no need to create big lists of compositions/partitions.  Instead the compositions/partitions can be processed in succession, and _with no speed penalty._  Also less memory space is needed for larger problems."
   ]
  },
  {
   "cell_type": "markdown",
   "id": "55958e9c-b7fb-4cbc-b0d1-1904f1883d03",
   "metadata": {},
   "source": [
    "## Content\n",
    "1. [Compositions](#1-Compositions)\n",
    "2. [Partitions](#2-Partitions)\n",
    "3. [Young Tableaux](#3-Young-Tableaux)\n",
    "4. [Schur Polynomials](#4-Schur-Polynomials)"
   ]
  },
  {
   "cell_type": "markdown",
   "id": "ea8b1e86-4c3c-4fd2-ac3e-b181e8e13afe",
   "metadata": {},
   "source": [
    "## 1 Compositions\n",
    "OSCAR can compute with both compositions and weak compositions.  Here we see some ways of generating and using them."
   ]
  },
  {
   "cell_type": "code",
   "execution_count": 44,
   "id": "4096ecc0-ccf3-4ca9-b36f-ca5f31514457",
   "metadata": {},
   "outputs": [],
   "source": [
    "using Oscar"
   ]
  },
  {
   "cell_type": "markdown",
   "id": "c7c4bd9b-6da4-48d6-a968-04902bfc2476",
   "metadata": {},
   "source": [
    "There are 2^99 compositions of 100:"
   ]
  },
  {
   "cell_type": "code",
   "execution_count": 2,
   "id": "2266fef9-0354-4558-ac93-811d7ce041b7",
   "metadata": {},
   "outputs": [
    {
     "data": {
      "text/plain": [
       "633825300114114700748351602688"
      ]
     },
     "execution_count": 2,
     "metadata": {},
     "output_type": "execute_result"
    }
   ],
   "source": [
    "number_of_compositions(100)"
   ]
  },
  {
   "cell_type": "markdown",
   "id": "e7883cbe-f055-4f01-902c-75c6869f8672",
   "metadata": {},
   "source": [
    "To process all compositions of a number we use an iterator.  Iterators do not immediately create all compositions:"
   ]
  },
  {
   "cell_type": "code",
   "execution_count": 6,
   "id": "fcd78943-b2cb-4321-b1f5-b4161a6f41ec",
   "metadata": {},
   "outputs": [
    {
     "data": {
      "text/plain": [
       "Iterator over the compositions of 100"
      ]
     },
     "execution_count": 6,
     "metadata": {},
     "output_type": "execute_result"
    }
   ],
   "source": [
    "compositions(100)"
   ]
  },
  {
   "cell_type": "code",
   "execution_count": 5,
   "id": "67fb0b55-ed5c-4bba-8e4f-9885e841063a",
   "metadata": {},
   "outputs": [
    {
     "data": {
      "text/plain": [
       "633825300114114700748351602688"
      ]
     },
     "execution_count": 5,
     "metadata": {},
     "output_type": "execute_result"
    }
   ],
   "source": [
    "length(compositions(100))   # same as number_of_compositions(100)"
   ]
  },
  {
   "cell_type": "markdown",
   "id": "1ffa372b-2cda-4f46-968c-461c915d8487",
   "metadata": {},
   "source": [
    "If needed, we can use Julia's _collect_ function to make a list of them all -- this does require memory space for them all:"
   ]
  },
  {
   "cell_type": "code",
   "execution_count": 7,
   "id": "defe39a4-9c4f-429b-8b66-b5fa2fc734eb",
   "metadata": {},
   "outputs": [
    {
     "data": {
      "text/plain": [
       "8-element Vector{Composition{Int64}}:\n",
       " [4]\n",
       " [3, 1]\n",
       " [2, 2]\n",
       " [1, 3]\n",
       " [2, 1, 1]\n",
       " [1, 2, 1]\n",
       " [1, 1, 2]\n",
       " [1, 1, 1, 1]"
      ]
     },
     "execution_count": 7,
     "metadata": {},
     "output_type": "execute_result"
    }
   ],
   "source": [
    "collect(compositions(4))"
   ]
  },
  {
   "cell_type": "markdown",
   "id": "6f628301-9174-49a6-a774-2d08ff7fa695",
   "metadata": {},
   "source": [
    "We can also restrict the set of compositions to consider by specifying the number of parts:"
   ]
  },
  {
   "cell_type": "code",
   "execution_count": 8,
   "id": "48aff21d-85a9-47d5-8b4b-5686d893ad05",
   "metadata": {},
   "outputs": [
    {
     "data": {
      "text/plain": [
       "3-element Vector{Composition{Int64}}:\n",
       " [3, 1]\n",
       " [2, 2]\n",
       " [1, 3]"
      ]
     },
     "execution_count": 8,
     "metadata": {},
     "output_type": "execute_result"
    }
   ],
   "source": [
    "collect(compositions(4, 2))"
   ]
  },
  {
   "cell_type": "markdown",
   "id": "5012317f-277e-4b27-87f0-489328e06f6d",
   "metadata": {},
   "source": [
    "Similarly, we can obtain an iterator over restricted weak compositions:"
   ]
  },
  {
   "cell_type": "code",
   "execution_count": 9,
   "id": "8aff8101-83c8-423a-9dbf-c77dcdbd099a",
   "metadata": {},
   "outputs": [
    {
     "data": {
      "text/plain": [
       "5-element Vector{WeakComposition{Int64}}:\n",
       " [4, 0]\n",
       " [3, 1]\n",
       " [2, 2]\n",
       " [1, 3]\n",
       " [0, 4]"
      ]
     },
     "execution_count": 9,
     "metadata": {},
     "output_type": "execute_result"
    }
   ],
   "source": [
    "collect(weak_compositions(4, 2))"
   ]
  },
  {
   "cell_type": "markdown",
   "id": "264cc23e-0c42-4df5-9a16-03c7d276e14c",
   "metadata": {},
   "source": [
    "An advantage of iterators is that they do not need space to store all compositions at once, but just one at a time.  Typical paradigm: iterate over the compositions to process each one individually.  This is quite fast: here we process about 60 million compositions in just a few seconds:"
   ]
  },
  {
   "cell_type": "code",
   "execution_count": 10,
   "id": "6fe35968-7d38-4b05-9051-20e72032d45c",
   "metadata": {},
   "outputs": [
    {
     "name": "stdout",
     "output_type": "stream",
     "text": [
      "[1, 1, 1, 1, 1, 1, 1, 1, 1, 1, 1, 1, 1, 1, 1, 1, 1, 1, 1, 1, 1, 1, 1, 1, 1, 1, 1]\n",
      "  7.322858 seconds (134.35 M allocations: 14.759 GiB, 23.49% gc time, 1.81% compilation time)\n"
     ]
    }
   ],
   "source": [
    "@time for c in compositions(27)\n",
    "  if length(c) == 27\n",
    "    println(c)\n",
    "  end\n",
    "end"
   ]
  },
  {
   "cell_type": "markdown",
   "id": "ea8b1e86-4c3c-4fd2-ac3e-b181e8e13afe",
   "metadata": {},
   "source": [
"**For full details about functions for compositions** consult the [Official documentation](https://docs.oscar-system.org/dev/Combinatorics/EnumerativeCombinatorics/compositions/)"
   ]
  },
  {
   "cell_type": "code",
   "execution_count": null,
   "id": "14948fe0-5384-4b6c-a4eb-f19abb42762d",
   "metadata": {},
   "outputs": [],
   "source": []
  },
  {
   "cell_type": "markdown",
   "id": "bc0b92bf-6811-4dbe-916e-00995e390b9b",
   "metadata": {},
   "source": [
    "## 2 Partitions\n",
    "OSCAR can compute with integer partitions.  Here we see some ways of generating and using them."
   ]
  },
  {
   "cell_type": "markdown",
   "id": "f502dd24-4417-462f-a7fc-f136f3a1011f",
   "metadata": {},
   "source": [
    "### Unrestricted Partitions"
   ]
  },
  {
   "cell_type": "markdown",
   "id": "c7c4bd9b-6da4-48d6-a968-04902bfc2476",
   "metadata": {},
   "source": [
    "There is no simple formula for the number of partitions.  OSCAR uses an effiicent, advanced algorithm."
   ]
  },
  {
   "cell_type": "code",
   "execution_count": 12,
   "id": "e93c6070-e865-40b5-bee2-90947a273fee",
   "metadata": {},
   "outputs": [
    {
     "data": {
      "text/plain": [
       "190569292"
      ]
     },
     "execution_count": 12,
     "metadata": {},
     "output_type": "execute_result"
    }
   ],
   "source": [
    "number_of_partitions(100)\n"
   ]
  },
  {
   "cell_type": "markdown",
   "id": "e7883cbe-f055-4f01-902c-75c6869f8672",
   "metadata": {},
   "source": [
    "To process all partitions of a number we use an iterator (as we did for compositions).  Iterators do not immediately create all compositions:"
   ]
  },
  {
   "cell_type": "code",
   "execution_count": 12,
   "id": "e93c6070-e865-40b5-bee2-90947a273fee",
   "metadata": {},
   "outputs": [
    {
     "data": {
      "text/plain": [
       "Iterator over the partitions of 100"
      ]
     },
     "execution_count": 12,
     "metadata": {},
     "output_type": "execute_result"
    }
   ],
   "source": [
    "part100 = partitions(100)\n",
    "# length(partitions(100)) is equivalent to number_of_partitions(100)"
   ]
  },
  {
   "cell_type": "markdown",
   "id": "3505b662-fffa-4305-8d46-5ecc11c79769",
   "metadata": {},
   "source": [
    "See also `ascending_compositions` among the composition functions."
   ]
  },
  {
   "cell_type": "markdown",
   "id": "3caca557-b1c7-4cc6-8467-497fa5035f01",
   "metadata": {},
   "source": [
    "If needed, one can use the Julia function _collect_ to make a list of them all -- this will consume memory space for them all!"
   ]
  },
  {
   "cell_type": "code",
   "execution_count": 13,
   "id": "d610a7fa-d4ac-4f33-9a22-19a1fce46349",
   "metadata": {},
   "outputs": [
    {
     "data": {
      "text/plain": [
       "11-element Vector{Partition{Int64}}:\n",
       " [6]\n",
       " [5, 1]\n",
       " [4, 2]\n",
       " [4, 1, 1]\n",
       " [3, 3]\n",
       " [3, 2, 1]\n",
       " [3, 1, 1, 1]\n",
       " [2, 2, 2]\n",
       " [2, 2, 1, 1]\n",
       " [2, 1, 1, 1, 1]\n",
       " [1, 1, 1, 1, 1, 1]"
      ]
     },
     "execution_count": 13,
     "metadata": {},
     "output_type": "execute_result"
    }
   ],
   "source": [
    "collect(partitions(6))"
   ]
  },
  {
   "cell_type": "markdown",
   "id": "70e1b1f9-18b9-41fa-9efa-08df686728a1",
   "metadata": {},
   "source": [
    "An advantage of iterators is that they do not need space to store all partitions at once, instead just one at a time.  Typical paradigm: iterate over the partitions to process each one individually.  This is quite fast: here we process nearly 200 million partitions in around 20 seconds:"
   ]
  },
  {
   "cell_type": "code",
   "execution_count": 14,
   "id": "cb208b06-b011-4eed-a096-ba37d42ed73c",
   "metadata": {},
   "outputs": [
    {
     "name": "stdout",
     "output_type": "stream",
     "text": [
      "[4, 1, 1, 1, 1, 1, 1, 1, 1, 1, 1, 1, 1, 1, 1, 1, 1, 1, 1, 1, 1, 1, 1, 1, 1, 1, 1, 1, 1, 1, 1, 1, 1, 1, 1, 1, 1, 1, 1, 1, 1, 1, 1, 1, 1, 1, 1, 1, 1, 1, 1, 1, 1, 1, 1, 1, 1, 1, 1, 1, 1, 1, 1, 1, 1, 1, 1, 1, 1, 1, 1, 1, 1, 1, 1, 1, 1, 1, 1, 1, 1, 1, 1, 1, 1, 1, 1, 1, 1, 1, 1, 1, 1, 1, 1, 1, 1]\n",
      "[3, 2, 1, 1, 1, 1, 1, 1, 1, 1, 1, 1, 1, 1, 1, 1, 1, 1, 1, 1, 1, 1, 1, 1, 1, 1, 1, 1, 1, 1, 1, 1, 1, 1, 1, 1, 1, 1, 1, 1, 1, 1, 1, 1, 1, 1, 1, 1, 1, 1, 1, 1, 1, 1, 1, 1, 1, 1, 1, 1, 1, 1, 1, 1, 1, 1, 1, 1, 1, 1, 1, 1, 1, 1, 1, 1, 1, 1, 1, 1, 1, 1, 1, 1, 1, 1, 1, 1, 1, 1, 1, 1, 1, 1, 1, 1, 1]\n",
      "[2, 2, 2, 1, 1, 1, 1, 1, 1, 1, 1, 1, 1, 1, 1, 1, 1, 1, 1, 1, 1, 1, 1, 1, 1, 1, 1, 1, 1, 1, 1, 1, 1, 1, 1, 1, 1, 1, 1, 1, 1, 1, 1, 1, 1, 1, 1, 1, 1, 1, 1, 1, 1, 1, 1, 1, 1, 1, 1, 1, 1, 1, 1, 1, 1, 1, 1, 1, 1, 1, 1, 1, 1, 1, 1, 1, 1, 1, 1, 1, 1, 1, 1, 1, 1, 1, 1, 1, 1, 1, 1, 1, 1, 1, 1, 1, 1]\n",
      " 23.458629 seconds (381.24 M allocations: 50.278 GiB, 25.47% gc time, 0.43% compilation time)\n"
     ]
    }
   ],
   "source": [
    "@time for c in partitions(100)\n",
    "  if length(c) == 97\n",
    "    println(c)\n",
    "  end\n",
    "end"
   ]
  },
  {
   "cell_type": "markdown",
   "id": "bcc30394-5b22-4e58-81d8-dc08df3185b7",
   "metadata": {},
   "source": [
   "### Restricted partitions",
    "OSCAR supports iteration over many sorts of restricted partitions.  For instance, partitions with exactly 3 parts:"
   ]
  },
  {
   "cell_type": "code",
   "execution_count": 15,
   "id": "ee43e3ec-c1db-4c8e-9cd7-867ebf8182a1",
   "metadata": {},
   "outputs": [
    {
     "data": {
      "text/plain": [
       "To make an iterator over the partitions of 7 having _exactly 3 parts:_"
      ]
     },
     "execution_count": 15,
     "metadata": {},
     "output_type": "execute_result"
    }
   ],
   "source": [
    "partitions(7, 3)"
   ]
  },
  {
   "cell_type": "markdown",
   "id": "6363ff74-520e-4a9c-9e19-e7c404001be2",
   "metadata": {},
   "source": [
    "Likewise, an iterator over those partitions with _exactly 3 distinct parts_ is supported:"
   ]
  },
  {
   "cell_type": "code",
   "execution_count": 16,
   "id": "fd5dc638-4570-4bc0-a1ca-1fcf6fc3df91",
   "metadata": {},
   "outputs": [
    {
     "data": {
      "text/plain": [
       "Iterator over the partitions of 7 into 3 parts"
      ]
     },
     "execution_count": 16,
     "metadata": {},
     "output_type": "execute_result"
    }
   ],
   "source": [
    "partitions(7, 3; only_distinct_parts=true)"
   ]
  },
  {
   "cell_type": "markdown",
   "id": "4b39fd57-cbc1-4b0c-a8ec-f5bf60d2c843",
   "metadata": {},
   "source": [
    "More elaborate restrictions may also easily be specified: we can, for instance, compute all ways of giving change.  The following code creates an iterator over all ways of giving 99 cents change with Euro coins:"
   ]
  },
  {
   "cell_type": "code",
   "execution_count": 18,
   "id": "ff3db663-608b-40e0-8f9d-628f7ac3b3bc",
   "metadata": {},
   "outputs": [
    {
     "data": {
      "text/plain": [
       "Iterator over the partitions of 99 with fixed values"
      ]
     },
     "execution_count": 18,
     "metadata": {},
     "output_type": "execute_result"
    }
   ],
   "source": [
    "coins = [1, 2, 5, 10, 20, 50]\n",
    "iter = partitions(99, coins)"
   ]
  },
  {
   "cell_type": "code",
   "execution_count": 19,
   "id": "38298b2e-3ce7-4d9b-8f2a-ab032ec92fb3",
   "metadata": {},
   "outputs": [
    {
     "ename": "LoadError",
     "evalue": "MethodError: no method matching length(::Oscar.PartitionsFixedValues{Int64})\n\n\u001b[0mClosest candidates are:\n\u001b[0m  length(\u001b[91m::Union{Base.KeySet, Base.ValueIterator}\u001b[39m)\n\u001b[0m\u001b[90m   @\u001b[39m \u001b[90mBase\u001b[39m \u001b[90m\u001b[4mabstractdict.jl:58\u001b[24m\u001b[39m\n\u001b[0m  length(\u001b[91m::Union{SparseArrays.FixedSparseVector{Tv, Ti}, SparseArrays.SparseVector{Tv, Ti}} where {Tv, Ti}\u001b[39m)\n\u001b[0m\u001b[90m   @\u001b[39m \u001b[35mSparseArrays\u001b[39m \u001b[90m/datadisk/Computer/Mathematics_software/Julia/julia-1.9.2-linux-x86_64/julia-1.9.2/share/julia/stdlib/v1.9/SparseArrays/src/\u001b[39m\u001b[90m\u001b[4msparsevector.jl:95\u001b[24m\u001b[39m\n\u001b[0m  length(\u001b[91m::Union{ZMQ._Message, Base.RefValue{ZMQ._Message}}\u001b[39m)\n\u001b[0m\u001b[90m   @\u001b[39m \u001b[36mZMQ\u001b[39m \u001b[90m~/.julia/packages/ZMQ/hT3ax/src/\u001b[39m\u001b[90m\u001b[4m_message.jl:31\u001b[24m\u001b[39m\n\u001b[0m  ...\n",
     "output_type": "error",
     "traceback": [
      "MethodError: no method matching length(::Oscar.PartitionsFixedValues{Int64})\n\n\u001b[0mClosest candidates are:\n\u001b[0m  length(\u001b[91m::Union{Base.KeySet, Base.ValueIterator}\u001b[39m)\n\u001b[0m\u001b[90m   @\u001b[39m \u001b[90mBase\u001b[39m \u001b[90m\u001b[4mabstractdict.jl:58\u001b[24m\u001b[39m\n\u001b[0m  length(\u001b[91m::Union{SparseArrays.FixedSparseVector{Tv, Ti}, SparseArrays.SparseVector{Tv, Ti}} where {Tv, Ti}\u001b[39m)\n\u001b[0m\u001b[90m   @\u001b[39m \u001b[35mSparseArrays\u001b[39m \u001b[90m/datadisk/Computer/Mathematics_software/Julia/julia-1.9.2-linux-x86_64/julia-1.9.2/share/julia/stdlib/v1.9/SparseArrays/src/\u001b[39m\u001b[90m\u001b[4msparsevector.jl:95\u001b[24m\u001b[39m\n\u001b[0m  length(\u001b[91m::Union{ZMQ._Message, Base.RefValue{ZMQ._Message}}\u001b[39m)\n\u001b[0m\u001b[90m   @\u001b[39m \u001b[36mZMQ\u001b[39m \u001b[90m~/.julia/packages/ZMQ/hT3ax/src/\u001b[39m\u001b[90m\u001b[4m_message.jl:31\u001b[24m\u001b[39m\n\u001b[0m  ...\n",
      "",
      "Stacktrace:",
      " [1] top-level scope",
      "   @ In[19]:1"
     ]
    }
   ],
   "source": [
    "length(iter)"
   ]
  },
  {
   "cell_type": "code",
   "execution_count": 20,
   "id": "a9a22e72-22f1-4593-bbd6-130a4e0f61ac",
   "metadata": {},
   "outputs": [
    {
     "data": {
      "text/plain": [
       "4366-element Vector{Partition{Int64}}:\n",
       " [50, 20, 20, 5, 2, 2]\n",
       " [50, 20, 20, 5, 2, 1, 1]\n",
       " [50, 20, 10, 10, 5, 2, 2]\n",
       " [50, 20, 20, 5, 1, 1, 1, 1]\n",
       " [50, 20, 20, 2, 2, 2, 2, 1]\n",
       " [50, 20, 10, 10, 5, 2, 1, 1]\n",
       " [50, 20, 10, 5, 5, 5, 2, 2]\n",
       " [50, 10, 10, 10, 10, 5, 2, 2]\n",
       " [20, 20, 20, 20, 10, 5, 2, 2]\n",
       " [50, 20, 20, 2, 2, 2, 1, 1, 1]\n",
       " [50, 20, 10, 10, 5, 1, 1, 1, 1]\n",
       " [50, 20, 10, 10, 2, 2, 2, 2, 1]\n",
       " [50, 20, 10, 5, 5, 5, 2, 1, 1]\n",
       " ⋮\n",
       " [5, 2, 2, 2, 1, 1, 1, 1, 1, 1  …  1, 1, 1, 1, 1, 1, 1, 1, 1, 1]\n",
       " [2, 2, 2, 2, 2, 2, 2, 1, 1, 1  …  1, 1, 1, 1, 1, 1, 1, 1, 1, 1]\n",
       " [5, 2, 2, 1, 1, 1, 1, 1, 1, 1  …  1, 1, 1, 1, 1, 1, 1, 1, 1, 1]\n",
       " [2, 2, 2, 2, 2, 2, 1, 1, 1, 1  …  1, 1, 1, 1, 1, 1, 1, 1, 1, 1]\n",
       " [5, 2, 1, 1, 1, 1, 1, 1, 1, 1  …  1, 1, 1, 1, 1, 1, 1, 1, 1, 1]\n",
       " [2, 2, 2, 2, 2, 1, 1, 1, 1, 1  …  1, 1, 1, 1, 1, 1, 1, 1, 1, 1]\n",
       " [5, 1, 1, 1, 1, 1, 1, 1, 1, 1  …  1, 1, 1, 1, 1, 1, 1, 1, 1, 1]\n",
       " [2, 2, 2, 2, 1, 1, 1, 1, 1, 1  …  1, 1, 1, 1, 1, 1, 1, 1, 1, 1]\n",
       " [2, 2, 2, 1, 1, 1, 1, 1, 1, 1  …  1, 1, 1, 1, 1, 1, 1, 1, 1, 1]\n",
       " [2, 2, 1, 1, 1, 1, 1, 1, 1, 1  …  1, 1, 1, 1, 1, 1, 1, 1, 1, 1]\n",
       " [2, 1, 1, 1, 1, 1, 1, 1, 1, 1  …  1, 1, 1, 1, 1, 1, 1, 1, 1, 1]\n",
       " [1, 1, 1, 1, 1, 1, 1, 1, 1, 1  …  1, 1, 1, 1, 1, 1, 1, 1, 1, 1]"
      ]
     },
     "execution_count": 20,
     "metadata": {},
     "output_type": "execute_result"
    }
   ],
   "source": [
    "collect(iter)"
   ]
  },
  {
   "cell_type": "markdown",
   "id": "33c9bc42-42d6-4896-abf5-e3e9949a3694",
   "metadata": {},
   "source": [
    "We can determine the smallest number of coins needed for 99 cents change:"
   ]
  },
  {
   "cell_type": "code",
   "execution_count": 22,
   "id": "efeb0267-5359-4da8-b259-f85477a4fd62",
   "metadata": {},
   "outputs": [
    {
     "data": {
      "text/plain": [
       "6"
      ]
     },
     "execution_count": 22,
     "metadata": {},
     "output_type": "execute_result"
    }
   ],
   "source": [
    "minimum(length, iter)"
   ]
  },
  {
   "cell_type": "markdown",
   "id": "0ee648d0-3708-486b-93ee-205725264695",
   "metadata": {},
   "source": [
    "The following line computes a \"best\" way of giving the change in question:"
   ]
  },
  {
   "cell_type": "code",
   "execution_count": 24,
   "id": "f5a8fea9-65cd-4bcc-aff8-82dbf562585d",
   "metadata": {},
   "outputs": [
    {
     "data": {
      "text/plain": [
       "[50, 20, 20, 5, 2, 2]"
      ]
     },
     "execution_count": 24,
     "metadata": {},
     "output_type": "execute_result"
    }
   ],
   "source": [
    "argmin(length, iter)"
   ]
  },
  {
   "cell_type": "markdown",
   "id": "cffff32d-6dbc-4f8a-b4c0-1bd8412a1391",
   "metadata": {},
   "source": [
    "One can also restrict by length and/or max number of repetitions, _e.g._ if one has only a limited number of coins of certain denominations.  If we have only two of each type of coin then the ways of giving 99 cents change are:"
   ]
  },
  {
   "cell_type": "code",
   "execution_count": null,
   "id": "83770f32-e1b5-4d23-a44e-dd2a2e61907d",
   "metadata": {},
   "outputs": [
    {
     "data": {
      "text/plain": [
       "4-element Vector{Partition{Int64}}:\n",
       "[50, 20, 20, 5, 2, 2]\n ",
       "[50, 20, 20, 5, 2, 1, 1]\n",
       "[50, 20, 10, 10, 5, 2, 2]\n",
       "[50, 20, 10, 10, 5, 2, 1, 1]"
      ]
     },
     "execution_count": 24,
     "metadata": {},
     "output_type": "execute_result"
    }
    ],
   "source": ["collect(partitions(99, coins, [2, 2, 2, 2, 2, 2]))"]
  },
  {
   "cell_type": "markdown",
   "id": "bc0b92bf-6811-4dbe-916e-00995e390b9b",
   "metadata": {},
   "source": [
    ""**For full details about functions for compositions** consult the [Official documentation](https://docs.oscar-system.org/dev/Combinatorics/EnumerativeCombinatorics/partitions/)"
   ]
  },
  {
   "cell_type": "markdown",
   "id": "024f7853-d456-408f-963e-463d96392ab3",
   "metadata": {},
   "source": [
    "## 3 Young Tableaux"
   ]
  },
  {
   "cell_type": "code",
   "execution_count": 26,
   "id": "5dc6d1fe-1fdf-4661-b479-14db9869b925",
   "metadata": {},
   "outputs": [
    {
     "data": {
      "text/plain": [
       "+---+---+---+---+\n",
       "| 1 | 2 | 3 | 4 |\n",
       "+---+---+---+---+\n",
       "| 5 | 6 |\n",
       "+---+---+\n",
       "| 7 |\n",
       "+---+"
      ]
     },
     "execution_count": 26,
     "metadata": {},
     "output_type": "execute_result"
    }
   ],
   "source": [
    "tab = young_tableau([ [1,2,3,4], [5,6], [7] ])"
   ]
  },
  {
   "cell_type": "markdown",
   "id": "25902f51-32c2-4f03-94e9-68f03042e7ca",
   "metadata": {},
   "source": [
    "We can compute the weight sequence as an array:"
   ]
  },
  {
   "cell_type": "code",
   "execution_count": 27,
   "id": "53b46740-2d71-47fa-8c4a-80c934cc941a",
   "metadata": {},
   "outputs": [
    {
     "data": {
      "text/plain": [
       "7-element Vector{Int64}:\n",
       " 1\n",
       " 1\n",
       " 1\n",
       " 1\n",
       " 1\n",
       " 1\n",
       " 1"
      ]
     },
     "execution_count": 27,
     "metadata": {},
     "output_type": "execute_result"
    }
   ],
   "source": [
    "weight(tab)  "
   ]
  },
  {
   "cell_type": "markdown",
   "id": "8a9f3e35-b73a-4142-a006-f50808168d14",
   "metadata": {},
   "source": [
    "We can also compute the shape as a partition:"
   ]
  },
  {
   "cell_type": "code",
   "execution_count": 28,
   "id": "82e68523-847a-4619-9299-21bd1e29e96e",
   "metadata": {},
   "outputs": [
    {
     "data": {
      "text/plain": [
       "[4, 2, 1]"
      ]
     },
     "execution_count": 28,
     "metadata": {},
     "output_type": "execute_result"
    }
   ],
   "source": [
    "shape(tab)"
   ]
  },
  {
   "cell_type": "code",
   "execution_count": 29,
   "id": "52575ce0-1c42-4980-8861-6f79d5b8e22e",
   "metadata": {},
   "outputs": [
    {
     "data": {
      "text/plain": [
       "7-element Vector{Int64}:\n",
       " 7\n",
       " 5\n",
       " 6\n",
       " 1\n",
       " 2\n",
       " 3\n",
       " 4"
      ]
     },
     "execution_count": 29,
     "metadata": {},
     "output_type": "execute_result"
    }
   ],
   "source": [
    "reading_word(tab)"
   ]
  },
  {
   "cell_type": "code",
   "execution_count": 33,
   "id": "6615693e-435e-4c81-9443-5c808c9c9ce2",
   "metadata": {},
   "outputs": [
    {
     "data": {
      "text/plain": [
       "2-element Vector{Bool}:\n",
       " 1\n",
       " 1"
      ]
     },
     "execution_count": 33,
     "metadata": {},
     "output_type": "execute_result"
    }
   ],
   "source": [
    "[is_standard(tab), is_semistandard(tab)]"
   ]
  },
  {
   "cell_type": "code",
   "execution_count": 32,
   "id": "d36b52fb-2d8b-4392-af73-3a26b175a6b5",
   "metadata": {},
   "outputs": [
    {
     "name": "stdout",
     "output_type": "stream",
     "text": [
      "Young tableau\n",
      "Young tableau\n",
      "Young tableau\n",
      "Young tableau\n",
      "Young tableau\n",
      "Young tableau\n",
      "Young tableau\n",
      "Young tableau\n",
      "Young tableau\n",
      "Young tableau\n",
      "Young tableau\n",
      "Young tableau\n",
      "Young tableau\n",
      "Young tableau\n",
      "Young tableau\n",
      "Young tableau\n",
      "Young tableau\n",
      "Young tableau\n",
      "Young tableau\n",
      "Young tableau\n",
      "Young tableau\n",
      "Young tableau\n",
      "Young tableau\n",
      "Young tableau\n",
      "Young tableau\n",
      "Young tableau\n",
      "Young tableau\n",
      "Young tableau\n",
      "Young tableau\n",
      "Young tableau\n",
      "Young tableau\n",
      "Young tableau\n",
      "Young tableau\n",
      "Young tableau\n",
      "Young tableau\n"
     ]
    }
   ],
   "source": [
    "P = partition([4,2,1]);\n",
    "number_of_standard_tableaux(P)\n",
    "iter = standard_tableaux(P);\n",
    "for tab in iter\n",
    "  println(tab);\n",
    "end"
   ]
  },
  {
   "cell_type": "markdown",
   "id": "0e657f40-3d39-48e1-b206-70e0b4c2281f",
   "metadata": {},
   "source": [
    "The following code is about a schensted tableau pair for a permutation:"
   ]
  },
  {
   "cell_type": "code",
   "execution_count": 35,
   "id": "b08b4753-ff53-4d24-8d44-cdf7a96633ed",
   "metadata": {},
   "outputs": [
    {
     "data": {
      "text/plain": [
       "+----+----+----+----+----+----+\n",
       "|  1 |  5 |  8 |  9 | 10 | 12 |\n",
       "+----+----+----+----+----+----+\n",
       "|  2 |  6 |\n",
       "+----+----+\n",
       "|  3 |  7 |\n",
       "+----+----+\n",
       "|  4 |\n",
       "+----+\n",
       "| 11 |\n",
       "+----+"
      ]
     },
     "execution_count": 35,
     "metadata": {},
     "output_type": "execute_result"
    }
   ],
   "source": [
    "P, Q = schensted([4, 7, 8, 11, 9, 10, 12, 3, 2, 6, 5, 1]);\n",
    "P"
   ]
  },
  {
   "cell_type": "code",
   "execution_count": 36,
   "id": "64267821-dc90-4f1d-8f67-ba5255512024",
   "metadata": {},
   "outputs": [
    {
     "data": {
      "text/plain": [
       "+----+----+----+----+----+----+\n",
       "|  1 |  2 |  3 |  4 |  6 |  7 |\n",
       "+----+----+----+----+----+----+\n",
       "|  5 | 10 |\n",
       "+----+----+\n",
       "|  8 | 11 |\n",
       "+----+----+\n",
       "|  9 |\n",
       "+----+\n",
       "| 12 |\n",
       "+----+"
      ]
     },
     "execution_count": 36,
     "metadata": {},
     "output_type": "execute_result"
    }
   ],
   "source": [
    "Q"
   ]
  },
  {
   "cell_type": "code",
   "execution_count": null,
   "id": "19db72c0-2b02-4f0a-bcc7-be85e39cd301",
   "metadata": {},
   "outputs": [],
   "source": []
  },
  {
   "cell_type": "markdown",
   "id": "8c624c39-b92c-457d-9880-701e72555934",
   "metadata": {},
   "source": [
    "## 4 Schur Polynomials"
   ]
  },
  {
   "cell_type": "code",
   "execution_count": 37,
   "id": "334cfb3b-3c6c-4362-a8bf-196d36c5f73c",
   "metadata": {},
   "outputs": [],
   "source": [
    "R,_ = polynomial_ring(ZZ, [\"x1\", \"x2\", \"x3\"]);"
   ]
  },
  {
   "cell_type": "markdown",
   "id": "61b93464-e67d-4cc1-a0b8-56ebc2a40980",
   "metadata": {},
   "source": [
    "Note: In the following line, the 3rd argument specifies number of variables:"
   ]
  },
  {
   "cell_type": "code",
   "execution_count": 39,
   "id": "ee54d839-4068-48dd-b8bb-d998554eba17",
   "metadata": {},
   "outputs": [
    {
     "data": {
      "text/plain": [
       "x1^3*x2 + x1^3*x3 + x1^2*x2^2 + 2*x1^2*x2*x3 + x1^2*x3^2 + x1*x2^3 + 2*x1*x2^2*x3 + 2*x1*x2*x3^2 + x1*x3^3 + x2^3*x3 + x2^2*x3^2 + x2*x3^3"
      ]
     },
     "execution_count": 39,
     "metadata": {},
     "output_type": "execute_result"
    }
   ],
   "source": [
    "f1 = schur_polynomial(R, partition([3,1]),3)"
   ]
  },
  {
   "cell_type": "code",
   "execution_count": 40,
   "id": "15403188-d10e-4d74-aa9f-2c83eba1b2df",
   "metadata": {},
   "outputs": [
    {
     "data": {
      "text/plain": [
       "x1^2*x2^2 + x1^2*x2*x3 + x1^2*x3^2 + x1*x2^2*x3 + x1*x2*x3^2 + x2^2*x3^2"
      ]
     },
     "execution_count": 40,
     "metadata": {},
     "output_type": "execute_result"
    }
   ],
   "source": [
    "f2 = schur_polynomial(R, partition([2,2]),3)"
   ]
  },
  {
   "cell_type": "markdown",
   "id": "45fc8502-30cf-4b5d-9f1c-988281f9e5a0",
   "metadata": {},
   "source": [
    "Without the third argument, use just the first 2 variables:"
   ]
  },
  {
   "cell_type": "code",
   "execution_count": 41,
   "id": "d45c0a87-f364-4850-bfd0-4ba01011170a",
   "metadata": {},
   "outputs": [
    {
     "data": {
      "text/plain": [
       "x1^2*x2^2"
      ]
     },
     "execution_count": 41,
     "metadata": {},
     "output_type": "execute_result"
    }
   ],
   "source": [
    "f3 = schur_polynomial(R, partition([2,2]))"
   ]
  },
  {
   "cell_type": "code",
   "execution_count": null,
   "id": "920df2fc-08b3-493b-9496-b66ceceb4c27",
   "metadata": {},
   "outputs": [],
   "source": []
  }
 ],
 "metadata": {
  "kernelspec": {
   "display_name": "Julia 1.9.2",
   "language": "julia",
   "name": "julia-1.9"
  },
  "language_info": {
   "file_extension": ".jl",
   "mimetype": "application/julia",
   "name": "julia",
   "version": "1.9.2"
  }
 },
 "nbformat": 4,
 "nbformat_minor": 5
}
